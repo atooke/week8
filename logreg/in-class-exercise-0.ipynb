{
 "cells": [
  {
   "cell_type": "markdown",
   "metadata": {},
   "source": [
    "# Test-Train Split with Linear Regression exercise\n",
    "\n",
    "Using the housing prices dataset, perform a train-test split, and fit a linear regression.\n",
    "\n",
    "1. Fit a linear regression using a 15% test-train split.\n",
    "1. Calculate the R-squared value for the test split on this.\n",
    "1. Write a loop to try fitting different test-train split sizes. What happens to the quality of the fit as the test set increases in size?\n",
    "1. Try shuffling the data somehow (consider creating a mask of random indices, google is your friend.). Does the fit change after shuffling?"
   ]
  },
  {
   "cell_type": "code",
   "execution_count": 22,
   "metadata": {},
   "outputs": [
    {
     "data": {
      "text/plain": [
       "array([[ 1.31415422e-01, -2.26093368e-01],\n",
       "       [-5.09640698e-01, -2.26093368e-01],\n",
       "       [ 5.07908699e-01, -2.26093368e-01],\n",
       "       [-7.43677059e-01, -1.55439190e+00],\n",
       "       [ 1.27107075e+00,  1.10220517e+00],\n",
       "       [-1.99450507e-02,  1.10220517e+00],\n",
       "       [-5.93588523e-01, -2.26093368e-01],\n",
       "       [-7.29685755e-01, -2.26093368e-01],\n",
       "       [-7.89466782e-01, -2.26093368e-01],\n",
       "       [-6.44465993e-01, -2.26093368e-01],\n",
       "       [-7.71822042e-02,  1.10220517e+00],\n",
       "       [-8.65999486e-04, -2.26093368e-01],\n",
       "       [-1.40779041e-01, -2.26093368e-01],\n",
       "       [ 3.15099326e+00,  2.43050370e+00],\n",
       "       [-9.31923697e-01, -2.26093368e-01],\n",
       "       [ 3.80715024e-01,  1.10220517e+00],\n",
       "       [-8.65782986e-01, -1.55439190e+00],\n",
       "       [-9.72625673e-01, -2.26093368e-01],\n",
       "       [ 7.73743478e-01,  1.10220517e+00],\n",
       "       [ 1.31050078e+00,  1.10220517e+00],\n",
       "       [-2.97227261e-01, -2.26093368e-01],\n",
       "       [-1.43322915e-01, -1.55439190e+00],\n",
       "       [-5.04552951e-01, -2.26093368e-01],\n",
       "       [-4.91995958e-02,  1.10220517e+00],\n",
       "       [ 2.40309445e+00, -2.26093368e-01],\n",
       "       [-1.14560907e+00, -2.26093368e-01],\n",
       "       [-6.90255715e-01, -2.26093368e-01],\n",
       "       [ 6.68172729e-01, -2.26093368e-01],\n",
       "       [ 2.53521350e-01, -2.26093368e-01],\n",
       "       [ 8.09357707e-01, -2.26093368e-01],\n",
       "       [-2.05647815e-01, -1.55439190e+00],\n",
       "       [-1.27280274e+00, -2.88269044e+00],\n",
       "       [ 5.00114703e-02,  1.10220517e+00],\n",
       "       [ 1.44532608e+00, -2.26093368e-01],\n",
       "       [-2.41262044e-01,  1.10220517e+00],\n",
       "       [-7.16966387e-01, -2.26093368e-01],\n",
       "       [-9.68809863e-01, -2.26093368e-01],\n",
       "       [ 1.67029651e-01,  1.10220517e+00],\n",
       "       [ 2.81647389e+00,  1.10220517e+00],\n",
       "       [ 2.05187753e-01,  1.10220517e+00],\n",
       "       [-4.28236746e-01, -1.55439190e+00],\n",
       "       [ 3.01854946e-01, -2.26093368e-01],\n",
       "       [ 7.20322135e-01,  1.10220517e+00],\n",
       "       [-1.01841540e+00, -2.26093368e-01],\n",
       "       [-1.46104938e+00, -1.55439190e+00],\n",
       "       [-1.89112638e-01,  1.10220517e+00],\n",
       "       [-1.01459959e+00, -2.26093368e-01]])"
      ]
     },
     "execution_count": 22,
     "metadata": {},
     "output_type": "execute_result"
    }
   ],
   "source": [
    "import pandas as pd\n",
    "import numpy as np\n",
    "from sklearn.linear_model import LinearRegression\n",
    "from sklearn.cross_validation import train_test_split\n",
    "from sklearn.preprocessing import StandardScaler\n",
    "from sklearn.metrics import mean_absolute_error, r2_score, explained_variance_score\n",
    "from numpy import random\n",
    "\n",
    "data_df = pd.read_csv('data/housing_prices.csv')\n",
    "data_df.head()\n",
    "X = data_df[['square_feet', 'num_rooms']]\n",
    "y = data_df['price'].values\n",
    "\n",
    "# changes mean to 0 & std deviation to one via...\n",
    "# scaler object is the # of standard deviations off mean\n",
    "X = StandardScaler().fit_transform(X)\n",
    "X"
   ]
  },
  {
   "cell_type": "code",
   "execution_count": 35,
   "metadata": {},
   "outputs": [
    {
     "data": {
      "text/plain": [
       "<matplotlib.axes._subplots.AxesSubplot at 0x1a2281c9e8>"
      ]
     },
     "execution_count": 35,
     "metadata": {},
     "output_type": "execute_result"
    },
    {
     "data": {
      "image/png": "[encoded data removed]",
      "text/plain": [
       "<matplotlib.figure.Figure at 0x1a2281c3c8>"
      ]
     },
     "metadata": {},
     "output_type": "display_data"
    }
   ],
   "source": [
    "%matplotlib inline\n",
    "import matplotlib.pyplot as plt\n",
    "data_df.plot(kind='scatter', x='square_feet', y='price')"
   ]
  },
  {
   "cell_type": "code",
   "execution_count": 36,
   "metadata": {},
   "outputs": [
    {
     "data": {
      "text/plain": [
       "<matplotlib.axes._subplots.AxesSubplot at 0x1a2288c278>"
      ]
     },
     "execution_count": 36,
     "metadata": {},
     "output_type": "execute_result"
    },
    {
     "data": {
      "image/png": "[encoded data removed]",
      "text/plain": [
       "<matplotlib.figure.Figure at 0x1a22812c88>"
      ]
     },
     "metadata": {},
     "output_type": "display_data"
    }
   ],
   "source": [
    "data_df.plot(kind='scatter', x='num_rooms', y='price')"
   ]
  },
  {
   "cell_type": "code",
   "execution_count": 48,
   "metadata": {},
   "outputs": [
    {
     "data": {
      "text/html": [
       "<div>\n",
       "<style scoped>\n",
       "    .dataframe tbody tr th:only-of-type {\n",
       "        vertical-align: middle;\n",
       "    }\n",
       "\n",
       "    .dataframe tbody tr th {\n",
       "        vertical-align: top;\n",
       "    }\n",
       "\n",
       "    .dataframe thead th {\n",
       "        text-align: right;\n",
       "    }\n",
       "</style>\n",
       "<table border=\"1\" class=\"dataframe\">\n",
       "  <thead>\n",
       "    <tr style=\"text-align: right;\">\n",
       "      <th></th>\n",
       "      <th>square_feet</th>\n",
       "      <th>num_rooms</th>\n",
       "      <th>price</th>\n",
       "    </tr>\n",
       "  </thead>\n",
       "  <tbody>\n",
       "    <tr>\n",
       "      <th>count</th>\n",
       "      <td>47.000000</td>\n",
       "      <td>47.000000</td>\n",
       "      <td>47.000000</td>\n",
       "    </tr>\n",
       "    <tr>\n",
       "      <th>mean</th>\n",
       "      <td>2000.680851</td>\n",
       "      <td>3.170213</td>\n",
       "      <td>340412.659574</td>\n",
       "    </tr>\n",
       "    <tr>\n",
       "      <th>std</th>\n",
       "      <td>794.702354</td>\n",
       "      <td>0.760982</td>\n",
       "      <td>125039.899586</td>\n",
       "    </tr>\n",
       "    <tr>\n",
       "      <th>min</th>\n",
       "      <td>852.000000</td>\n",
       "      <td>1.000000</td>\n",
       "      <td>169900.000000</td>\n",
       "    </tr>\n",
       "    <tr>\n",
       "      <th>25%</th>\n",
       "      <td>1432.000000</td>\n",
       "      <td>3.000000</td>\n",
       "      <td>249900.000000</td>\n",
       "    </tr>\n",
       "    <tr>\n",
       "      <th>50%</th>\n",
       "      <td>1888.000000</td>\n",
       "      <td>3.000000</td>\n",
       "      <td>299900.000000</td>\n",
       "    </tr>\n",
       "    <tr>\n",
       "      <th>75%</th>\n",
       "      <td>2269.000000</td>\n",
       "      <td>4.000000</td>\n",
       "      <td>384450.000000</td>\n",
       "    </tr>\n",
       "    <tr>\n",
       "      <th>max</th>\n",
       "      <td>4478.000000</td>\n",
       "      <td>5.000000</td>\n",
       "      <td>699900.000000</td>\n",
       "    </tr>\n",
       "  </tbody>\n",
       "</table>\n",
       "</div>"
      ],
      "text/plain": [
       "       square_feet  num_rooms          price\n",
       "count    47.000000  47.000000      47.000000\n",
       "mean   2000.680851   3.170213  340412.659574\n",
       "std     794.702354   0.760982  125039.899586\n",
       "min     852.000000   1.000000  169900.000000\n",
       "25%    1432.000000   3.000000  249900.000000\n",
       "50%    1888.000000   3.000000  299900.000000\n",
       "75%    2269.000000   4.000000  384450.000000\n",
       "max    4478.000000   5.000000  699900.000000"
      ]
     },
     "execution_count": 48,
     "metadata": {},
     "output_type": "execute_result"
    }
   ],
   "source": [
    "data_df.describe()"
   ]
  },
  {
   "cell_type": "code",
   "execution_count": 24,
   "metadata": {},
   "outputs": [],
   "source": [
    "X_train, X_test, y_train, y_test = train_test_split(X,y, test_size = .15)"
   ]
  },
  {
   "cell_type": "code",
   "execution_count": 25,
   "metadata": {},
   "outputs": [
    {
     "name": "stdout",
     "output_type": "stream",
     "text": [
      "0.705818924967062\n"
     ]
    }
   ],
   "source": [
    "lin_reg_model = LinearRegression(normalize=False)\n",
    "lin_reg_model.fit(X_train, y_train)\n",
    "y_hat = lin_reg_model.predict(X_test)\n",
    "print(r2_score(y_hat, y_test))"
   ]
  },
  {
   "cell_type": "code",
   "execution_count": 30,
   "metadata": {},
   "outputs": [
    {
     "name": "stdout",
     "output_type": "stream",
     "text": [
      "test split=0.5, r squared=0.7236418633389536\n",
      "test split=0.1, r squared=0.5984546648471586\n",
      "test split=0.15, r squared=0.8263088472392877\n",
      "test split=0.2, r squared=0.7845683969664646\n",
      "test split=0.25, r squared=0.5686595667555578\n",
      "test split=0.3, r squared=0.7358389226380508\n"
     ]
    }
   ],
   "source": [
    "for i in [.5, .1, .15, .2, .25, .3]:\n",
    "    X_train, X_test, y_train, y_test = train_test_split(X, y, test_size=i)\n",
    "    lr = LinearRegression(normalize=False)\n",
    "    lr.fit(X_train, y_train)\n",
    "    y_pred = lr.predict(X_test)\n",
    "    print('test split={}, r squared={}'.format(i, r2_score(y_test, y_pred)))\n"
   ]
  },
  {
   "cell_type": "code",
   "execution_count": 31,
   "metadata": {},
   "outputs": [
    {
     "name": "stdout",
     "output_type": "stream",
     "text": [
      "test split=0.5, r squared=0.7085253861596104\n",
      "test split=0.1, r squared=0.2798029114051127\n",
      "test split=0.15, r squared=0.7513914015372634\n",
      "test split=0.2, r squared=0.46055276567091885\n",
      "test split=0.25, r squared=0.772079733910916\n",
      "test split=0.3, r squared=0.7183881219077297\n"
     ]
    }
   ],
   "source": [
    "# 2nd run, note skew for 0.1\n",
    "for i in [.5, .1, .15, .2, .25, .3]:\n",
    "    X_train, X_test, y_train, y_test = train_test_split(X, y, test_size=i)\n",
    "    lr = LinearRegression(normalize=False)\n",
    "    lr.fit(X_train, y_train)\n",
    "    y_pred = lr.predict(X_test)\n",
    "    print('test split={}, r squared={}'.format(i, r2_score(y_test, y_pred)))\n",
    "\n"
   ]
  },
  {
   "cell_type": "code",
   "execution_count": 39,
   "metadata": {},
   "outputs": [
    {
     "name": "stdout",
     "output_type": "stream",
     "text": [
      "[25  8  3 27 33 39 28 23  5 16 37 24  7 22  4 21 20 36 10 13 15  0 46 41\n",
      " 19 31 40  2  6 42 30 11 43 26 35 45 38  9  1 32 29 44 18 17 14 34 12]\n"
     ]
    }
   ],
   "source": [
    "#Investigate X - only 46 records!!\n",
    "mask_temp = np.arange(len(X))   \n",
    "random.shuffle(mask_temp)\n",
    "print(mask_temp)"
   ]
  },
  {
   "cell_type": "code",
   "execution_count": 45,
   "metadata": {},
   "outputs": [],
   "source": [
    "def make_shuffle(X, y):\n",
    "    # you'll need to select a mask \n",
    "    mask_temp = np.arange(len(X))\n",
    "    random.shuffle(mask_temp)\n",
    "    X = X[mask_temp]\n",
    "    y = y[mask_temp]\n",
    "    \n",
    "    return X, y\n",
    "    \n",
    "    "
   ]
  },
  {
   "cell_type": "code",
   "execution_count": 47,
   "metadata": {},
   "outputs": [
    {
     "name": "stdout",
     "output_type": "stream",
     "text": [
      "shuffe:0\n",
      "test split=0.5, r squared=0.8307764317667086\n",
      "test split=0.1, r squared=0.6829864295580423\n",
      "test split=0.15, r squared=0.21143984962899887\n",
      "test split=0.2, r squared=0.5919689248091033\n",
      "test split=0.25, r squared=-0.19883452039997218\n",
      "test split=0.3, r squared=0.6020271537115394\n",
      "shuffe:1\n",
      "test split=0.5, r squared=0.733746855918511\n",
      "test split=0.1, r squared=-0.23980943325951687\n",
      "test split=0.15, r squared=0.7723045166034557\n",
      "test split=0.2, r squared=0.20144588264219299\n",
      "test split=0.25, r squared=0.5822834433626898\n",
      "test split=0.3, r squared=0.4463423417514266\n",
      "shuffe:2\n",
      "test split=0.5, r squared=0.6879692893298006\n",
      "test split=0.1, r squared=0.6103523549347983\n",
      "test split=0.15, r squared=0.6952623333802135\n",
      "test split=0.2, r squared=0.6608112434521485\n",
      "test split=0.25, r squared=0.573583845491103\n",
      "test split=0.3, r squared=0.8326362539817992\n",
      "shuffe:3\n",
      "test split=0.5, r squared=0.6796947929065253\n",
      "test split=0.1, r squared=0.24698123203859135\n",
      "test split=0.15, r squared=0.6047645530688662\n",
      "test split=0.2, r squared=0.5132954576186814\n",
      "test split=0.25, r squared=0.48584738587049514\n",
      "test split=0.3, r squared=0.8135104643916586\n",
      "shuffe:4\n",
      "test split=0.5, r squared=0.624700449325587\n",
      "test split=0.1, r squared=0.20427135289616216\n",
      "test split=0.15, r squared=0.7179875745402398\n",
      "test split=0.2, r squared=0.8947390963314417\n",
      "test split=0.25, r squared=0.8373287952873107\n",
      "test split=0.3, r squared=0.17300047373450067\n",
      "shuffe:5\n",
      "test split=0.5, r squared=0.6256109420174958\n",
      "test split=0.1, r squared=0.06251102418153276\n",
      "test split=0.15, r squared=-0.27418822167501333\n",
      "test split=0.2, r squared=0.6661311726039195\n",
      "test split=0.25, r squared=0.8146812543602586\n",
      "test split=0.3, r squared=0.4413600952990141\n",
      "shuffe:6\n",
      "test split=0.5, r squared=0.483090808426504\n",
      "test split=0.1, r squared=0.9634704500027599\n",
      "test split=0.15, r squared=0.8949042466125601\n",
      "test split=0.2, r squared=0.7384781319487039\n",
      "test split=0.25, r squared=0.6877049196001757\n",
      "test split=0.3, r squared=0.8241684019124191\n",
      "shuffe:7\n",
      "test split=0.5, r squared=0.6570130731182162\n",
      "test split=0.1, r squared=0.19484501440470015\n",
      "test split=0.15, r squared=0.5632328862367552\n",
      "test split=0.2, r squared=0.7389648145031309\n",
      "test split=0.25, r squared=0.6702090375384062\n",
      "test split=0.3, r squared=0.7489641601828022\n",
      "shuffe:8\n",
      "test split=0.5, r squared=0.7773470242944727\n",
      "test split=0.1, r squared=0.7687446506532613\n",
      "test split=0.15, r squared=0.6600839179232031\n",
      "test split=0.2, r squared=0.8159157158103985\n",
      "test split=0.25, r squared=0.07217598853387797\n",
      "test split=0.3, r squared=0.5132221493273316\n",
      "shuffe:9\n",
      "test split=0.5, r squared=0.6987082501601205\n",
      "test split=0.1, r squared=0.692004009381157\n",
      "test split=0.15, r squared=0.7083590067524098\n",
      "test split=0.2, r squared=0.8894625915637078\n",
      "test split=0.25, r squared=0.7847724132140718\n",
      "test split=0.3, r squared=0.7549487933205551\n"
     ]
    }
   ],
   "source": [
    "for s in range(10):\n",
    "    X_sh, y_sh = make_shuffle(X, y)\n",
    "    print('shuffe:{}'.format(s))\n",
    "    for i in [.5, .1, .15, .2, .25, .3]:\n",
    "        X_train, X_test, y_train, y_test = train_test_split(X_sh, y_sh, test_size=i)\n",
    "        lr = LinearRegression(normalize=True)\n",
    "        lr.fit(X_train, y_train)\n",
    "        y_pred = lr.predict(X_test)\n",
    "        print('test split={}, r squared={}'.format(i, r2_score(y_test, y_pred)))"
   ]
  },
  {
   "cell_type": "code",
   "execution_count": 51,
   "metadata": {},
   "outputs": [
    {
     "ename": "ValueError",
     "evalue": "x and y must be the same size",
     "output_type": "error",
     "traceback": [
      "\u001b[0;31m---------------------------------------------------------------------------\u001b[0m",
      "\u001b[0;31mValueError\u001b[0m                                Traceback (most recent call last)",
      "\u001b[0;32m<ipython-input-51-abdb8f71efbe>\u001b[0m in \u001b[0;36m<module>\u001b[0;34m()\u001b[0m\n\u001b[0;32m----> 1\u001b[0;31m \u001b[0mplt\u001b[0m\u001b[0;34m.\u001b[0m\u001b[0mscatter\u001b[0m\u001b[0;34m(\u001b[0m\u001b[0mX_test\u001b[0m\u001b[0;34m,\u001b[0m \u001b[0my_test\u001b[0m\u001b[0;34m,\u001b[0m \u001b[0mcolor\u001b[0m\u001b[0;34m=\u001b[0m\u001b[0;34m'blue'\u001b[0m\u001b[0;34m)\u001b[0m\u001b[0;34m\u001b[0m\u001b[0m\n\u001b[0m\u001b[1;32m      2\u001b[0m \u001b[0mplt\u001b[0m\u001b[0;34m.\u001b[0m\u001b[0mplot\u001b[0m\u001b[0;34m(\u001b[0m\u001b[0mX_test\u001b[0m\u001b[0;34m,\u001b[0m \u001b[0my_pred\u001b[0m\u001b[0;34m,\u001b[0m \u001b[0mcolor\u001b[0m\u001b[0;34m=\u001b[0m\u001b[0;34m'red'\u001b[0m\u001b[0;34m)\u001b[0m\u001b[0;34m\u001b[0m\u001b[0m\n\u001b[1;32m      3\u001b[0m \u001b[0;34m\u001b[0m\u001b[0m\n\u001b[1;32m      4\u001b[0m \u001b[0mplt\u001b[0m\u001b[0;34m.\u001b[0m\u001b[0mshow\u001b[0m\u001b[0;34m(\u001b[0m\u001b[0;34m)\u001b[0m\u001b[0;34m\u001b[0m\u001b[0m\n",
      "\u001b[0;32m~/anaconda3/lib/python3.6/site-packages/matplotlib/pyplot.py\u001b[0m in \u001b[0;36mscatter\u001b[0;34m(x, y, s, c, marker, cmap, norm, vmin, vmax, alpha, linewidths, verts, edgecolors, hold, data, **kwargs)\u001b[0m\n\u001b[1;32m   3376\u001b[0m                          \u001b[0mvmin\u001b[0m\u001b[0;34m=\u001b[0m\u001b[0mvmin\u001b[0m\u001b[0;34m,\u001b[0m \u001b[0mvmax\u001b[0m\u001b[0;34m=\u001b[0m\u001b[0mvmax\u001b[0m\u001b[0;34m,\u001b[0m \u001b[0malpha\u001b[0m\u001b[0;34m=\u001b[0m\u001b[0malpha\u001b[0m\u001b[0;34m,\u001b[0m\u001b[0;34m\u001b[0m\u001b[0m\n\u001b[1;32m   3377\u001b[0m                          \u001b[0mlinewidths\u001b[0m\u001b[0;34m=\u001b[0m\u001b[0mlinewidths\u001b[0m\u001b[0;34m,\u001b[0m \u001b[0mverts\u001b[0m\u001b[0;34m=\u001b[0m\u001b[0mverts\u001b[0m\u001b[0;34m,\u001b[0m\u001b[0;34m\u001b[0m\u001b[0m\n\u001b[0;32m-> 3378\u001b[0;31m                          edgecolors=edgecolors, data=data, **kwargs)\n\u001b[0m\u001b[1;32m   3379\u001b[0m     \u001b[0;32mfinally\u001b[0m\u001b[0;34m:\u001b[0m\u001b[0;34m\u001b[0m\u001b[0m\n\u001b[1;32m   3380\u001b[0m         \u001b[0max\u001b[0m\u001b[0;34m.\u001b[0m\u001b[0m_hold\u001b[0m \u001b[0;34m=\u001b[0m \u001b[0mwashold\u001b[0m\u001b[0;34m\u001b[0m\u001b[0m\n",
      "\u001b[0;32m~/anaconda3/lib/python3.6/site-packages/matplotlib/__init__.py\u001b[0m in \u001b[0;36minner\u001b[0;34m(ax, *args, **kwargs)\u001b[0m\n\u001b[1;32m   1715\u001b[0m                     warnings.warn(msg % (label_namer, func.__name__),\n\u001b[1;32m   1716\u001b[0m                                   RuntimeWarning, stacklevel=2)\n\u001b[0;32m-> 1717\u001b[0;31m             \u001b[0;32mreturn\u001b[0m \u001b[0mfunc\u001b[0m\u001b[0;34m(\u001b[0m\u001b[0max\u001b[0m\u001b[0;34m,\u001b[0m \u001b[0;34m*\u001b[0m\u001b[0margs\u001b[0m\u001b[0;34m,\u001b[0m \u001b[0;34m**\u001b[0m\u001b[0mkwargs\u001b[0m\u001b[0;34m)\u001b[0m\u001b[0;34m\u001b[0m\u001b[0m\n\u001b[0m\u001b[1;32m   1718\u001b[0m         \u001b[0mpre_doc\u001b[0m \u001b[0;34m=\u001b[0m \u001b[0minner\u001b[0m\u001b[0;34m.\u001b[0m\u001b[0m__doc__\u001b[0m\u001b[0;34m\u001b[0m\u001b[0m\n\u001b[1;32m   1719\u001b[0m         \u001b[0;32mif\u001b[0m \u001b[0mpre_doc\u001b[0m \u001b[0;32mis\u001b[0m \u001b[0;32mNone\u001b[0m\u001b[0;34m:\u001b[0m\u001b[0;34m\u001b[0m\u001b[0m\n",
      "\u001b[0;32m~/anaconda3/lib/python3.6/site-packages/matplotlib/axes/_axes.py\u001b[0m in \u001b[0;36mscatter\u001b[0;34m(self, x, y, s, c, marker, cmap, norm, vmin, vmax, alpha, linewidths, verts, edgecolors, **kwargs)\u001b[0m\n\u001b[1;32m   3953\u001b[0m         \u001b[0my\u001b[0m \u001b[0;34m=\u001b[0m \u001b[0mnp\u001b[0m\u001b[0;34m.\u001b[0m\u001b[0mma\u001b[0m\u001b[0;34m.\u001b[0m\u001b[0mravel\u001b[0m\u001b[0;34m(\u001b[0m\u001b[0my\u001b[0m\u001b[0;34m)\u001b[0m\u001b[0;34m\u001b[0m\u001b[0m\n\u001b[1;32m   3954\u001b[0m         \u001b[0;32mif\u001b[0m \u001b[0mx\u001b[0m\u001b[0;34m.\u001b[0m\u001b[0msize\u001b[0m \u001b[0;34m!=\u001b[0m \u001b[0my\u001b[0m\u001b[0;34m.\u001b[0m\u001b[0msize\u001b[0m\u001b[0;34m:\u001b[0m\u001b[0;34m\u001b[0m\u001b[0m\n\u001b[0;32m-> 3955\u001b[0;31m             \u001b[0;32mraise\u001b[0m \u001b[0mValueError\u001b[0m\u001b[0;34m(\u001b[0m\u001b[0;34m\"x and y must be the same size\"\u001b[0m\u001b[0;34m)\u001b[0m\u001b[0;34m\u001b[0m\u001b[0m\n\u001b[0m\u001b[1;32m   3956\u001b[0m \u001b[0;34m\u001b[0m\u001b[0m\n\u001b[1;32m   3957\u001b[0m         \u001b[0;32mif\u001b[0m \u001b[0ms\u001b[0m \u001b[0;32mis\u001b[0m \u001b[0;32mNone\u001b[0m\u001b[0;34m:\u001b[0m\u001b[0;34m\u001b[0m\u001b[0m\n",
      "\u001b[0;31mValueError\u001b[0m: x and y must be the same size"
     ]
    },
    {
     "data": {
      "image/png": "[encoded data removed]",
      "text/plain": [
       "<matplotlib.figure.Figure at 0x1a229735f8>"
      ]
     },
     "metadata": {},
     "output_type": "display_data"
    }
   ],
   "source": [
    "plt.scatter(X_test, y_test, color='blue')\n",
    "plt.plot(X_test, y_pred, color='red')\n",
    "         \n",
    "plt.show()"
   ]
  }
 ],
 "metadata": {
  "kernelspec": {
   "display_name": "Python 3",
   "language": "python",
   "name": "python3"
  },
  "language_info": {
   "codemirror_mode": {
    "name": "ipython",
    "version": 3
   },
   "file_extension": ".py",
   "mimetype": "text/x-python",
   "name": "python",
   "nbconvert_exporter": "python",
   "pygments_lexer": "ipython3",
   "version": "3.6.4"
  },
  "widgets": {
   "state": {},
   "version": "1.1.2"
  }
 },
 "nbformat": 4,
 "nbformat_minor": 2
}
