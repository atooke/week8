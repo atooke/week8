{
 "cells": [
  {
   "cell_type": "markdown",
   "metadata": {},
   "source": [
    "# Test-Train Split with Linear Regression example\n",
    "\n",
    "Using the credit card balances dataset, perform a train-test split, and fit a linear regression.\n",
    "\n",
    "1. Fit a linear regression using a 15% test-train split.\n",
    "1. Calculate the R-squared value for the test split on this.\n",
    "1. Write a loop to try fitting different test-train split sizes. What happens to the quality of the fit as the test set increases in size?\n",
    "1. Try shuffling the data somehow (consider creating a mask of random indices, google is your friend.). Does the fit change after shuffling?"
   ]
  },
  {
   "cell_type": "code",
   "execution_count": 16,
   "metadata": {},
   "outputs": [
    {
     "name": "stdout",
     "output_type": "stream",
     "text": [
      "0.8642122293346653\n"
     ]
    }
   ],
   "source": [
    "import pandas as pd\n",
    "import numpy as np\n",
    "from sklearn.linear_model import LinearRegression\n",
    "from sklearn.cross_validation import train_test_split\n",
    "from sklearn.preprocessing import StandardScaler\n",
    "from sklearn.metrics import mean_absolute_error, r2_score, explained_variance_score\n",
    "from numpy import random\n",
    "# Load data from csv file\n",
    "df = pd.read_csv('data/balance.csv')\n",
    "X = df[['Income', 'Limit']].values\n",
    "y = df['Balance'].values\n",
    "\n",
    "# consider scaling X here\n",
    "X = StandardScaler().fit_transform(X)\n",
    "\n",
    "\n",
    "# Split into training and test sets\n",
    "X_train, X_test, y_train, y_test = train_test_split(X, y, test_size=0.15)\n",
    "\n",
    "lr = LinearRegression(normalize=False)\n",
    "lr.fit(X_train, y_train)\n",
    "y_pred = lr.predict(X_test)\n",
    "print(r2_score(y_pred, y_test))"
   ]
  },
  {
   "cell_type": "code",
   "execution_count": 14,
   "metadata": {},
   "outputs": [
    {
     "name": "stdout",
     "output_type": "stream",
     "text": [
      "test set split: 0.1 r2: 0.9152454938911768\n",
      "test set split: 0.15 r2: 0.848107571334671\n",
      "test set split: 0.2 r2: 0.8573313353462226\n",
      "test set split: 0.25 r2: 0.8690414460330093\n",
      "test set split: 0.3 r2: 0.8887958421310441\n",
      "test set split: 0.35 r2: 0.8824030531651947\n"
     ]
    }
   ],
   "source": [
    "for i in [0.10, 0.15, 0.20, 0.25, 0.30, 0.35]:\n",
    "    X_train, X_test, y_train, y_test = train_test_split(X, y, test_size=i)\n",
    "    lr = LinearRegression(normalize=False)\n",
    "    lr.fit(X_train, y_train)\n",
    "    y_pred = lr.predict(X_test)\n",
    "    print(\"test set split: {} r2: {}\".format(i, r2_score(y_test, y_pred)))"
   ]
  },
  {
   "cell_type": "code",
   "execution_count": 3,
   "metadata": {},
   "outputs": [
    {
     "data": {
      "text/plain": [
       "array([  0,   1,   2,   3,   4,   5,   6,   7,   8,   9,  10,  11,  12,\n",
       "        13,  14,  15,  16,  17,  18,  19,  20,  21,  22,  23,  24,  25,\n",
       "        26,  27,  28,  29,  30,  31,  32,  33,  34,  35,  36,  37,  38,\n",
       "        39,  40,  41,  42,  43,  44,  45,  46,  47,  48,  49,  50,  51,\n",
       "        52,  53,  54,  55,  56,  57,  58,  59,  60,  61,  62,  63,  64,\n",
       "        65,  66,  67,  68,  69,  70,  71,  72,  73,  74,  75,  76,  77,\n",
       "        78,  79,  80,  81,  82,  83,  84,  85,  86,  87,  88,  89,  90,\n",
       "        91,  92,  93,  94,  95,  96,  97,  98,  99, 100, 101, 102, 103,\n",
       "       104, 105, 106, 107, 108, 109, 110, 111, 112, 113, 114, 115, 116,\n",
       "       117, 118, 119, 120, 121, 122, 123, 124, 125, 126, 127, 128, 129,\n",
       "       130, 131, 132, 133, 134, 135, 136, 137, 138, 139, 140, 141, 142,\n",
       "       143, 144, 145, 146, 147, 148, 149, 150, 151, 152, 153, 154, 155,\n",
       "       156, 157, 158, 159, 160, 161, 162, 163, 164, 165, 166, 167, 168,\n",
       "       169, 170, 171, 172, 173, 174, 175, 176, 177, 178, 179, 180, 181,\n",
       "       182, 183, 184, 185, 186, 187, 188, 189, 190, 191, 192, 193, 194,\n",
       "       195, 196, 197, 198, 199, 200, 201, 202, 203, 204, 205, 206, 207,\n",
       "       208, 209, 210, 211, 212, 213, 214, 215, 216, 217, 218, 219, 220,\n",
       "       221, 222, 223, 224, 225, 226, 227, 228, 229, 230, 231, 232, 233,\n",
       "       234, 235, 236, 237, 238, 239, 240, 241, 242, 243, 244, 245, 246,\n",
       "       247, 248, 249, 250, 251, 252, 253, 254, 255, 256, 257, 258, 259,\n",
       "       260, 261, 262, 263, 264, 265, 266, 267, 268, 269, 270, 271, 272,\n",
       "       273, 274, 275, 276, 277, 278, 279, 280, 281, 282, 283, 284, 285,\n",
       "       286, 287, 288, 289, 290, 291, 292, 293, 294, 295, 296, 297, 298,\n",
       "       299, 300, 301, 302, 303, 304, 305, 306, 307, 308, 309, 310, 311,\n",
       "       312, 313, 314, 315, 316, 317, 318, 319, 320, 321, 322, 323, 324,\n",
       "       325, 326, 327, 328, 329, 330, 331, 332, 333, 334, 335, 336, 337,\n",
       "       338, 339, 340, 341, 342, 343, 344, 345, 346, 347, 348, 349, 350,\n",
       "       351, 352, 353, 354, 355, 356, 357, 358, 359, 360, 361, 362, 363,\n",
       "       364, 365, 366, 367, 368, 369, 370, 371, 372, 373, 374, 375, 376,\n",
       "       377, 378, 379, 380, 381, 382, 383, 384, 385, 386, 387, 388, 389,\n",
       "       390, 391, 392, 393, 394, 395, 396, 397, 398, 399])"
      ]
     },
     "execution_count": 3,
     "metadata": {},
     "output_type": "execute_result"
    }
   ],
   "source": [
    "np.arange(len(X))"
   ]
  },
  {
   "cell_type": "code",
   "execution_count": 4,
   "metadata": {},
   "outputs": [],
   "source": [
    "def make_shuffle(X, y):\n",
    "    # you'll need to select a mask \n",
    "    mask_temp = np.arange(len(X))\n",
    "    random.shuffle(mask_temp)\n",
    "    X = X[mask_temp]\n",
    "    y = y[mask_temp]\n",
    "    \n",
    "    return X, y"
   ]
  },
  {
   "cell_type": "code",
   "execution_count": 15,
   "metadata": {},
   "outputs": [
    {
     "name": "stdout",
     "output_type": "stream",
     "text": [
      "shuffle: 0\n",
      "test set split: 0.1 r2: 0.8850356342100113\n",
      "test set split: 0.15 r2: 0.8527494456307779\n",
      "test set split: 0.2 r2: 0.8442646706293987\n",
      "test set split: 0.25 r2: 0.8685586856730817\n",
      "test set split: 0.3 r2: 0.8582549774623613\n",
      "test set split: 0.35 r2: 0.8791423591271837\n",
      "shuffle: 1\n",
      "test set split: 0.1 r2: 0.8370631415912804\n",
      "test set split: 0.15 r2: 0.8495770775011786\n",
      "test set split: 0.2 r2: 0.8695830112181325\n",
      "test set split: 0.25 r2: 0.8959465095222668\n",
      "test set split: 0.3 r2: 0.8788251816554105\n",
      "test set split: 0.35 r2: 0.8871955430152584\n",
      "shuffle: 2\n",
      "test set split: 0.1 r2: 0.8514806222622175\n",
      "test set split: 0.15 r2: 0.8417932794553465\n",
      "test set split: 0.2 r2: 0.8280028428201751\n",
      "test set split: 0.25 r2: 0.8640694659327978\n",
      "test set split: 0.3 r2: 0.8722796967785972\n",
      "test set split: 0.35 r2: 0.8584663777915411\n",
      "shuffle: 3\n",
      "test set split: 0.1 r2: 0.9000748917179459\n",
      "test set split: 0.15 r2: 0.8729596798336883\n",
      "test set split: 0.2 r2: 0.8748033259673711\n",
      "test set split: 0.25 r2: 0.8601770383235042\n",
      "test set split: 0.3 r2: 0.8486144512276865\n",
      "test set split: 0.35 r2: 0.8610734785811174\n",
      "shuffle: 4\n",
      "test set split: 0.1 r2: 0.8236360604219121\n",
      "test set split: 0.15 r2: 0.8539728854834032\n",
      "test set split: 0.2 r2: 0.8532049306901403\n",
      "test set split: 0.25 r2: 0.8473136675693392\n",
      "test set split: 0.3 r2: 0.8064028049488201\n",
      "test set split: 0.35 r2: 0.8796553538487534\n",
      "shuffle: 5\n",
      "test set split: 0.1 r2: 0.8749318127248815\n",
      "test set split: 0.15 r2: 0.8592875333384005\n",
      "test set split: 0.2 r2: 0.8705433319334211\n",
      "test set split: 0.25 r2: 0.8536812702262084\n",
      "test set split: 0.3 r2: 0.8765140605279257\n",
      "test set split: 0.35 r2: 0.8082418581542186\n",
      "shuffle: 6\n",
      "test set split: 0.1 r2: 0.8911663377604835\n",
      "test set split: 0.15 r2: 0.8433330659201504\n",
      "test set split: 0.2 r2: 0.8339103276946882\n",
      "test set split: 0.25 r2: 0.8539083758375482\n",
      "test set split: 0.3 r2: 0.8867653399431206\n",
      "test set split: 0.35 r2: 0.8546873070706427\n",
      "shuffle: 7\n",
      "test set split: 0.1 r2: 0.8312940288666291\n",
      "test set split: 0.15 r2: 0.8653842520717281\n",
      "test set split: 0.2 r2: 0.8762132450053266\n",
      "test set split: 0.25 r2: 0.885902636329188\n",
      "test set split: 0.3 r2: 0.8942811291018798\n",
      "test set split: 0.35 r2: 0.8640860556265897\n",
      "shuffle: 8\n",
      "test set split: 0.1 r2: 0.8795593549886707\n",
      "test set split: 0.15 r2: 0.8661360429381868\n",
      "test set split: 0.2 r2: 0.8658136413902688\n",
      "test set split: 0.25 r2: 0.8760242280707877\n",
      "test set split: 0.3 r2: 0.8920784648055157\n",
      "test set split: 0.35 r2: 0.8781586528786033\n",
      "shuffle: 9\n",
      "test set split: 0.1 r2: 0.8377201359019629\n",
      "test set split: 0.15 r2: 0.7863924398434897\n",
      "test set split: 0.2 r2: 0.8354976881010143\n",
      "test set split: 0.25 r2: 0.8650264863199066\n",
      "test set split: 0.3 r2: 0.8871020846319266\n",
      "test set split: 0.35 r2: 0.8988150574468369\n"
     ]
    }
   ],
   "source": [
    "for shuf in range(10):\n",
    "    X_shuf, y_shuf = make_shuffle(X, y)\n",
    "    print('shuffle: {}'.format(shuf))\n",
    "    for i in [0.10, 0.15, 0.20, 0.25, 0.30, 0.35]:\n",
    "        X_train, X_test, y_train, y_test = train_test_split(X_shuf, y_shuf, test_size=i)\n",
    "        lr = LinearRegression(normalize=False)\n",
    "        lr.fit(X_train, y_train)\n",
    "        y_pred = lr.predict(X_test)\n",
    "        print(\"test set split: {} r2: {}\".format(i, r2_score(y_test, y_pred)))"
   ]
  }
 ],
 "metadata": {
  "kernelspec": {
   "display_name": "Python 3",
   "language": "python",
   "name": "python3"
  },
  "language_info": {
   "codemirror_mode": {
    "name": "ipython",
    "version": 3
   },
   "file_extension": ".py",
   "mimetype": "text/x-python",
   "name": "python",
   "nbconvert_exporter": "python",
   "pygments_lexer": "ipython3",
   "version": "3.6.4"
  },
  "widgets": {
   "state": {},
   "version": "1.1.2"
  }
 },
 "nbformat": 4,
 "nbformat_minor": 2
}
