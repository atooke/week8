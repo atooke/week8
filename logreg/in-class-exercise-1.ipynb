{
 "cells": [
  {
   "cell_type": "markdown",
   "metadata": {},
   "source": [
    "# Cross Validation K-Fold exercise\n",
    "\n",
    "Starting with the code below, reload the housing prices dataset that was used in the last exercise. Then apply K-Fold cross validation to it. An example can be found here: [cross_validation K-Fold](http://lijiancheng0614.github.io/scikit-learn/modules/generated/sklearn.cross_validation.KFold.html). What observations do you have?"
   ]
  },
  {
   "cell_type": "code",
   "execution_count": 11,
   "metadata": {},
   "outputs": [
    {
     "name": "stdout",
     "output_type": "stream",
     "text": [
      "[ 5  6  7  8  9 10 11 12 13 14 15 16 17 18 19 20 21 22 23 24 25 26 27 28\n",
      " 29 30 31 32 33 34 35 36 37 38 39 40 41 42 43 44 45 46]\n",
      "[0 1 2 3 4]\n",
      "************************************************\n",
      "[ 0  1  2  3  4 10 11 12 13 14 15 16 17 18 19 20 21 22 23 24 25 26 27 28\n",
      " 29 30 31 32 33 34 35 36 37 38 39 40 41 42 43 44 45 46]\n",
      "[5 6 7 8 9]\n",
      "************************************************\n",
      "[ 0  1  2  3  4  5  6  7  8  9 15 16 17 18 19 20 21 22 23 24 25 26 27 28\n",
      " 29 30 31 32 33 34 35 36 37 38 39 40 41 42 43 44 45 46]\n",
      "[10 11 12 13 14]\n",
      "************************************************\n",
      "[ 0  1  2  3  4  5  6  7  8  9 10 11 12 13 14 20 21 22 23 24 25 26 27 28\n",
      " 29 30 31 32 33 34 35 36 37 38 39 40 41 42 43 44 45 46]\n",
      "[15 16 17 18 19]\n",
      "************************************************\n",
      "[ 0  1  2  3  4  5  6  7  8  9 10 11 12 13 14 15 16 17 18 19 25 26 27 28\n",
      " 29 30 31 32 33 34 35 36 37 38 39 40 41 42 43 44 45 46]\n",
      "[20 21 22 23 24]\n",
      "************************************************\n",
      "[ 0  1  2  3  4  5  6  7  8  9 10 11 12 13 14 15 16 17 18 19 20 21 22 23\n",
      " 24 30 31 32 33 34 35 36 37 38 39 40 41 42 43 44 45 46]\n",
      "[25 26 27 28 29]\n",
      "************************************************\n",
      "[ 0  1  2  3  4  5  6  7  8  9 10 11 12 13 14 15 16 17 18 19 20 21 22 23\n",
      " 24 25 26 27 28 29 35 36 37 38 39 40 41 42 43 44 45 46]\n",
      "[30 31 32 33 34]\n",
      "************************************************\n",
      "[ 0  1  2  3  4  5  6  7  8  9 10 11 12 13 14 15 16 17 18 19 20 21 22 23\n",
      " 24 25 26 27 28 29 30 31 32 33 34 39 40 41 42 43 44 45 46]\n",
      "[35 36 37 38]\n",
      "************************************************\n",
      "[ 0  1  2  3  4  5  6  7  8  9 10 11 12 13 14 15 16 17 18 19 20 21 22 23\n",
      " 24 25 26 27 28 29 30 31 32 33 34 35 36 37 38 43 44 45 46]\n",
      "[39 40 41 42]\n",
      "************************************************\n",
      "[ 0  1  2  3  4  5  6  7  8  9 10 11 12 13 14 15 16 17 18 19 20 21 22 23\n",
      " 24 25 26 27 28 29 30 31 32 33 34 35 36 37 38 39 40 41 42]\n",
      "[43 44 45 46]\n",
      "************************************************\n"
     ]
    }
   ],
   "source": [
    "import pandas as pd\n",
    "import numpy as np\n",
    "from sklearn.linear_model import LinearRegression\n",
    "from sklearn import cross_validation\n",
    "from sklearn.cross_validation import KFold\n",
    "\n",
    "# Load data from csv file\n",
    "df = pd.read_csv('data/housing_prices.csv')\n",
    "X = df[['square_feet', 'num_rooms']].values\n",
    "y = df['price'].values\n",
    "\n",
    "# Do K-Folds\n",
    "\n",
    "# taking a look at the kfolds index\n",
    "kf = KFold(n=len(X), n_folds=10, shuffle=False, random_state=10)\n",
    "for train_idx, test_idx in kf:\n",
    "    print(train_idx)\n",
    "    print(test_idx)\n",
    "    print('*' * 48)"
   ]
  },
  {
   "cell_type": "code",
   "execution_count": 51,
   "metadata": {},
   "outputs": [
    {
     "name": "stdout",
     "output_type": "stream",
     "text": [
      "kfolds=2\n",
      "k-folds#=0,R2=0.49201826435994944 \n",
      "k-folds#=1,R2=0.5987518507537568 \n",
      "average r2=0.5453850575568531\n",
      "************************************************\n",
      "kfolds=3\n",
      "k-folds#=0,R2=-0.4464436593890053 \n",
      "k-folds#=1,R2=0.6114871640433459 \n",
      "k-folds#=2,R2=0.5081669198082346 \n",
      "average r2=0.2244034748208584\n",
      "************************************************\n",
      "kfolds=4\n",
      "k-folds#=0,R2=0.13578663682161185 \n",
      "k-folds#=1,R2=0.6822020581016979 \n",
      "k-folds#=2,R2=0.7296797671832193 \n",
      "k-folds#=3,R2=0.39815997816791526 \n",
      "average r2=0.48645711006861103\n",
      "************************************************\n",
      "kfolds=5\n",
      "k-folds#=0,R2=-0.06134441033774651 \n",
      "k-folds#=1,R2=0.6482426549523469 \n",
      "k-folds#=2,R2=0.5935517874001843 \n",
      "k-folds#=3,R2=0.776833055874302 \n",
      "k-folds#=4,R2=0.44434717242424315 \n",
      "average r2=0.480326052062666\n",
      "************************************************\n",
      "kfolds=6\n",
      "k-folds#=0,R2=-0.06665375134304097 \n",
      "k-folds#=1,R2=-0.09329852434893726 \n",
      "k-folds#=2,R2=0.7330645173741588 \n",
      "k-folds#=3,R2=0.6811371305949627 \n",
      "k-folds#=4,R2=0.6803837923419227 \n",
      "k-folds#=5,R2=0.39730048950412933 \n",
      "average r2=0.3886556090205326\n",
      "************************************************\n",
      "kfolds=7\n",
      "k-folds#=0,R2=-0.6938218038498596 \n",
      "k-folds#=1,R2=0.5580712164520896 \n",
      "k-folds#=2,R2=0.6399959223103138 \n",
      "k-folds#=3,R2=0.6407103268157199 \n",
      "k-folds#=4,R2=0.7942444953886615 \n",
      "k-folds#=5,R2=-1.1515872062101673 \n",
      "k-folds#=6,R2=0.6334957316710947 \n",
      "average r2=0.20301552608255038\n",
      "************************************************\n",
      "kfolds=8\n",
      "k-folds#=0,R2=-0.6145992040782591 \n",
      "k-folds#=1,R2=0.6073134923134715 \n",
      "k-folds#=2,R2=0.43152116225744386 \n",
      "k-folds#=3,R2=0.7337788350492718 \n",
      "k-folds#=4,R2=0.6816516828144161 \n",
      "k-folds#=5,R2=0.7350427540875251 \n",
      "k-folds#=6,R2=-1.0041389180540512 \n",
      "k-folds#=7,R2=0.597117293970977 \n",
      "average r2=0.2709608872950994\n",
      "************************************************\n",
      "kfolds=9\n",
      "k-folds#=0,R2=-0.6145992040782591 \n",
      "k-folds#=1,R2=0.6073134923134715 \n",
      "k-folds#=2,R2=-1.3480118162221673 \n",
      "k-folds#=3,R2=0.7482351431463745 \n",
      "k-folds#=4,R2=0.4931527134408249 \n",
      "k-folds#=5,R2=0.7941168187899392 \n",
      "k-folds#=6,R2=0.5360792476058305 \n",
      "k-folds#=7,R2=-0.6775173632604836 \n",
      "k-folds#=8,R2=0.597117293970977 \n",
      "average r2=0.12620959174516752\n",
      "************************************************\n",
      "kfolds=10\n",
      "k-folds#=0,R2=-0.23690935965462923 \n",
      "k-folds#=1,R2=0.26202454376910633 \n",
      "k-folds#=2,R2=-0.23072945044276527 \n",
      "k-folds#=3,R2=0.6707706126798563 \n",
      "k-folds#=4,R2=-0.1406527926034249 \n",
      "k-folds#=5,R2=0.8649977360169662 \n",
      "k-folds#=6,R2=0.6973872648205666 \n",
      "k-folds#=7,R2=-0.6136552118148677 \n",
      "k-folds#=8,R2=-0.21930892354259024 \n",
      "k-folds#=9,R2=0.7548826722717246 \n",
      "average r2=0.18088070914999427\n",
      "************************************************\n"
     ]
    }
   ],
   "source": [
    "from sklearn.metrics import r2_score\n",
    "\n",
    "k_folds_avg = []\n",
    "avg = 0\n",
    "for k in range(2,11):\n",
    "    print('kfolds={}'.format(k))\n",
    "    kf = KFold(n=len(X), n_folds=k, shuffle=True, random_state=10)\n",
    "    i, kfolds_total = 0, 0\n",
    "    for train_idx, test_idx in kf:\n",
    "        X_train, X_test = X[train_idx], X[test_idx]\n",
    "        y_train, y_test = y[train_idx], y[test_idx]\n",
    "        lr = LinearRegression(normalize=True)\n",
    "        lr.fit(X_train, y_train)\n",
    "        y_pred = lr.predict(X_test)\n",
    "        r2 = r2_score(y_test, y_pred)\n",
    "        print('k-folds#={},R2={} '.format(i, r2))\n",
    "        i +=1\n",
    "        kfolds_total += r2\n",
    "    avg = kfolds_total/k\n",
    "    print('average r2={}'.format(avg))\n",
    "    k_folds_avg.append(avg)\n",
    "    print('*'*48)"
   ]
  },
  {
   "cell_type": "code",
   "execution_count": 50,
   "metadata": {},
   "outputs": [
    {
     "data": {
      "text/plain": [
       "<matplotlib.axes._subplots.AxesSubplot at 0x10ab3c128>"
      ]
     },
     "execution_count": 50,
     "metadata": {},
     "output_type": "execute_result"
    },
    {
     "data": {
      "image/png": "[encoded data removed]",
      "text/plain": [
       "<matplotlib.figure.Figure at 0x10ab371d0>"
      ]
     },
     "metadata": {},
     "output_type": "display_data"
    }
   ],
   "source": [
    "df = pd.DataFrame(k_folds_avg)\n",
    "df.plot(kind='line')"
   ]
  }
 ],
 "metadata": {
  "kernelspec": {
   "display_name": "Python 3",
   "language": "python",
   "name": "python3"
  },
  "language_info": {
   "codemirror_mode": {
    "name": "ipython",
    "version": 3
   },
   "file_extension": ".py",
   "mimetype": "text/x-python",
   "name": "python",
   "nbconvert_exporter": "python",
   "pygments_lexer": "ipython3",
   "version": "3.6.4"
  },
  "widgets": {
   "state": {},
   "version": "1.1.2"
  }
 },
 "nbformat": 4,
 "nbformat_minor": 2
}
